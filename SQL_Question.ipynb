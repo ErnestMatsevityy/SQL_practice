{
 "cells": [
  {
   "cell_type": "markdown",
   "metadata": {},
   "source": [
    "<h2>Active User Retention</h2>\n",
    "<p>Difficulty: Hard</p>\n",
    "<i><b>Question: </b>Assume you're given a table containing information on Facebook user actions. Write a query to obtain number of monthly active users (MAUs) in July 2022, including the month in numerical format \"1, 2, 3\".\n",
    "\n",
    "Hint:\n",
    "\n",
    "An active user is defined as a user who has performed actions such as 'sign-in', 'like', or 'comment' in both the current month and the previous month.</i>\n",
    "\n",
    "[Link to the question](https://datalemur.com/questions/user-retention)"
   ]
  },
  {
   "cell_type": "code",
   "execution_count": null,
   "metadata": {
    "vscode": {
     "languageId": "sql"
    }
   },
   "outputs": [],
   "source": [
    "with sort_table as(\n",
    "  SELECT \n",
    "    *,\n",
    "    EXTRACT(month FROM event_date) as mnth,\n",
    "    CASE WHEN \n",
    "            EXTRACT(month FROM event_date) - 1 = \n",
    "            LAG(EXTRACT(month FROM event_date), 1) OVER(ORDER BY user_id) \n",
    "              then 1 \n",
    "              else 0\n",
    "          END as sort\n",
    "  FROM user_actions\n",
    "  WHERE\n",
    "    EXTRACT(month FROM event_date) IN (6,7) AND\n",
    "    EXTRACT(year FROM event_date) = 2022 AND\n",
    "    event_type IN ('sign-in', 'like', 'comment')\n",
    ")\n",
    "\n",
    "SELECT \n",
    "  mnth,\n",
    "  COUNT(mnth) as monthly_active_users\n",
    "FROM sort_table\n",
    "WHERE\n",
    "  sort = 1\n",
    "GROUP BY\n",
    "  mnth"
   ]
  },
  {
   "cell_type": "markdown",
   "metadata": {},
   "source": [
    "<h2>Highest-Grossing Items</h2>\n",
    "<p>Difficulty: Medium</p>\n",
    "<i><b>Question: </b>Assume you're given a table containing data on Amazon customers and their spending on products in different category, write a query to identify the top two highest-grossing products within each category in the year 2022. The output should include the category, product, and total spend.</i>\n",
    "\n",
    "[Link to the question](https://datalemur.com/questions/sql-highest-grossing)"
   ]
  },
  {
   "cell_type": "code",
   "execution_count": null,
   "metadata": {
    "vscode": {
     "languageId": "sql"
    }
   },
   "outputs": [],
   "source": [
    "SELECT \n",
    "  category,\n",
    "  product,\n",
    "  total_spend\n",
    "FROM (\n",
    "    -- assigning a rank to the total sum of the product \n",
    "    -- in the category from the largest to the smallest \n",
    "    -- with an annual filter\n",
    "  SELECT \n",
    "    category,\n",
    "    product,\n",
    "    SUM(spend) as total_spend,\n",
    "    RANK() OVER(\n",
    "      PARTITION BY category\n",
    "      ORDER BY SUM(spend) desc) as rank_id\n",
    "  FROM product_spend\n",
    "  WHERE\n",
    "    EXTRACT(year FROM transaction_date) = 2022\n",
    "  GROUP BY\n",
    "    category,\n",
    "    product\n",
    "  ORDER BY\n",
    "    category) as rank_table \n",
    "\n",
    "WHERE\n",
    "  rank_id IN (1,2)"
   ]
  },
  {
   "cell_type": "markdown",
   "metadata": {},
   "source": [
    "<h2>User's Third Transaction</h2>\n",
    "<p>Difficulty: Medium</p>\n",
    "<i><b>Question: </b>Assume you are given the table below on Uber transactions made by users. Write a query to obtain the third transaction of every user. Output the user id, spend and transaction date.</i>\n",
    "\n",
    "[Link to the question](https://datalemur.com/questions/sql-third-transaction)"
   ]
  },
  {
   "cell_type": "code",
   "execution_count": null,
   "metadata": {
    "vscode": {
     "languageId": "sql"
    }
   },
   "outputs": [],
   "source": [
    "SELECT\n",
    "  user_id,\n",
    "  spend,\n",
    "  transaction_date\n",
    "FROM (\n",
    "  SELECT\n",
    "    *,\n",
    "    RANK()\n",
    "      OVER(\n",
    "        PARTITION BY user_id \n",
    "        ORDER BY transaction_date) as rank_id\n",
    "  FROM transactions ) as filter_tabel\n",
    "WHERE \n",
    "    rank_id =3"
   ]
  },
  {
   "cell_type": "markdown",
   "metadata": {},
   "source": [
    "<h2>Cards Issued Difference</h2>\n",
    "<p>Difficulty: Easy</p>\n",
    "<i><b>Question: </b>Your team at JPMorgan Chase is preparing to launch a new credit card, and to gain some insights, you're analyzing how many credit cards were issued each month.\n",
    "\n",
    "Write a query that outputs the name of each credit card and the difference in the number of issued cards between the month with the highest issuance cards and the lowest issuance. Arrange the results based on the largest disparity.</i>\n",
    "\n",
    " [Link to the question](https://datalemur.com/questions/cards-issued-difference)"
   ]
  },
  {
   "cell_type": "code",
   "execution_count": null,
   "metadata": {
    "vscode": {
     "languageId": "sql"
    }
   },
   "outputs": [],
   "source": [
    "SELECT \n",
    "  card_name,\n",
    "  MAX(issued_amount) - MIN(issued_amount) as sum\n",
    "FROM monthly_cards_issued\n",
    "GROUP BY\n",
    "  card_name\n",
    "ORDER BY\n",
    "  sum DESC"
   ]
  },
  {
   "cell_type": "markdown",
   "metadata": {},
   "source": [
    "<h2>Duplicate Job Listings</h2>\n",
    "<p>Difficulty: Easy</p>\n",
    "<i><b>Question: </b>Assume you're given a table containing job postings from various companies on the LinkedIn platform.\n",
    " Write a query to retrieve the count of companies that have posted duplicate job listings.</i>\n",
    "\n",
    " [Link to the question](https://datalemur.com/questions/duplicate-job-listings)"
   ]
  },
  {
   "cell_type": "code",
   "execution_count": null,
   "metadata": {
    "vscode": {
     "languageId": "sql"
    }
   },
   "outputs": [],
   "source": [
    "SELECT \n",
    "    COUNT(*)\n",
    "FROM (\n",
    "    SELECT company_id\n",
    "    FROM job_listings\n",
    "    GROUP BY company_id\n",
    "    HAVING count(company_id) > 1\n",
    "    ) as filter_table"
   ]
  },
  {
   "cell_type": "markdown",
   "metadata": {},
   "source": [
    "<h2>Teams Power Users</h2>\n",
    "<p>Difficulty: Easy</p>\n",
    "<i><b>Question: </b>Write a query to identify the top 2 Power Users who sent the highest number of messages on Microsoft Teams in August 2022. Display the IDs of these 2 users along with the total number of messages they sent. Output the results in descending order based on the count of the messages.</i>\n",
    "\n",
    "[Link to the question](https://datalemur.com/questions/teams-power-users)"
   ]
  },
  {
   "cell_type": "code",
   "execution_count": null,
   "metadata": {
    "vscode": {
     "languageId": "sql"
    }
   },
   "outputs": [],
   "source": [
    "SELECT \n",
    "  sender_id,\n",
    "  COUNT(sender_id) as message_namber\n",
    "FROM messages\n",
    "WHERE\n",
    "  sent_date BETWEEN '2022-08-01' AND '2022-08-31'\n",
    "GROUP BY\n",
    "  sender_id\n",
    "ORDER BY\n",
    "  message_namber DESC\n",
    "LIMIT 2"
   ]
  },
  {
   "cell_type": "markdown",
   "metadata": {},
   "source": [
    "<h2>Average Review Ratings</h2>\n",
    "<p>Difficulty: Easy</p>\n",
    "<i><b>Question: </b>Given the reviews table, write a query to retrieve the average star rating for each product, grouped by month. The output should display the month as a numerical value, product ID, and average star rating rounded to two decimal places. Sort the output first by month and then by product ID.</i>\n",
    "\n",
    "[Link to the question](https://datalemur.com/questions/sql-avg-review-ratings)"
   ]
  },
  {
   "cell_type": "code",
   "execution_count": null,
   "metadata": {
    "vscode": {
     "languageId": "sql"
    }
   },
   "outputs": [],
   "source": [
    "SELECT \n",
    "  EXTRACT(MONTH FROM submit_date) as Month,\n",
    "  product_id,\n",
    "  round(AVG(stars), 2) as AVG_Rate_Prod\n",
    "FROM  reviews\n",
    "GROUP BY\n",
    "  Month, \n",
    "  product_id\n",
    "ORDER BY\n",
    "  Month, \n",
    "  product_id"
   ]
  },
  {
   "cell_type": "markdown",
   "metadata": {},
   "source": [
    "<h2>Page With No Likes</h2>\n",
    "<p>Difficulty: Easy</p>\n",
    "<i><b>Question: </b>Assume you're given two tables containing data about Facebook Pages and their respective likes (as in \"Like a Facebook Page\").\n",
    "\n",
    "Write a query to return the IDs of the Facebook pages that have zero likes. The output should be sorted in ascending order based on the page IDs.</i>\n",
    "\n",
    "[Link to the question](https://datalemur.com/questions/sql-page-with-no-likes)"
   ]
  },
  {
   "cell_type": "code",
   "execution_count": null,
   "metadata": {
    "vscode": {
     "languageId": "sql"
    }
   },
   "outputs": [],
   "source": [
    "SELECT \n",
    "  p.page_id as page\n",
    "FROM \n",
    "  pages as p\n",
    "FULL OUTER JOIN page_likes \n",
    "  ON p.page_id = page_likes.page_id\n",
    "GROUP BY\n",
    "  page\n",
    "HAVING\n",
    "  COUNT(page_likes.liked_date) = 0\n",
    "ORDER BY\n",
    "  page ASC"
   ]
  },
  {
   "cell_type": "markdown",
   "metadata": {},
   "source": [
    "<h2>App Click-through Rate (CTR)</h2>\n",
    "<p>Difficulty: Easy</p>\n",
    "<i><b>Question: </b>Assume you have an events table on Facebook app analytics. Write a query to calculate the click-through rate (CTR) for the app in 2022 and round the results to 2 decimal places.\n",
    "\n",
    "Definition and note:\n",
    "\n",
    "Percentage of click-through rate (CTR) = 100.0 * Number of clicks / Number of impressions\n",
    "To avoid integer division, multiply the CTR by 100.0, not 100.</i>\n",
    "\n",
    "[Link to the question](https://datalemur.com/questions/click-through-rate)"
   ]
  },
  {
   "cell_type": "code",
   "execution_count": null,
   "metadata": {
    "vscode": {
     "languageId": "sql"
    }
   },
   "outputs": [],
   "source": [
    "SELECT\n",
    "  app_id,\n",
    "  round(\n",
    "    100.0 * \n",
    "    SUM (CASE WHEN event_type = 'click' THEN 1 END) / \n",
    "    SUM (CASE WHEN event_type = 'impression' THEN 1  END), 2\n",
    "  ) as ctr\n",
    "FROM events\n",
    "WHERE\n",
    "  EXTRACT(Year FROM timestamp) = '2022'\n",
    "GROUP BY\n",
    "  app_id"
   ]
  },
  {
   "cell_type": "markdown",
   "metadata": {},
   "source": [
    "<h2>Cities With Completed Trades</h2>\n",
    "<p>Difficulty: Easy</p>\n",
    "<i><b>Question: </b>Assume you're given the tables containing completed trade orders and user details in a Robinhood trading system.\n",
    "\n",
    "Write a query to retrieve the top three cities that have the highest number of completed trade orders listed in descending order. Output the city name and the corresponding number of completed trade orders.</i>\n",
    "\n",
    "[Link to the question](https://datalemur.com/questions/completed-trades)"
   ]
  },
  {
   "cell_type": "code",
   "execution_count": null,
   "metadata": {
    "vscode": {
     "languageId": "sql"
    }
   },
   "outputs": [],
   "source": [
    "SELECT \n",
    "  city,\n",
    "  COUNT(*) as total_orders\n",
    "FROM trades\n",
    "LEFT JOIN users \n",
    "  ON trades.user_id = users.user_id\n",
    "GROUP BY\n",
    "  status,\n",
    "  city\n",
    "HAVING\n",
    "    status ='Completed'\n",
    "ORDER BY\n",
    "  total_orders DESC\n",
    "LIMIT 3"
   ]
  },
  {
   "cell_type": "markdown",
   "metadata": {},
   "source": [
    "<h2>Second Day Confirmation</h2>\n",
    "<p>Difficulty: Easy</p>\n",
    "<i><b>Question: </b>Assume you're given tables with information about TikTok user sign-ups and confirmations through email and text. New users on TikTok sign up using their email addresses, and upon sign-up, each user receives a text message confirmation to activate their account.\n",
    "\n",
    "Write a query to display the user IDs of those who did not confirm their sign-up on the first day, but confirmed on the second day.\n",
    "\n",
    "Definition:\n",
    "\n",
    "action_date refers to the date when users activated their accounts and confirmed their sign-up through text messages.</i>\n",
    "\n",
    "[Link to the question](https://datalemur.com/questions/second-day-confirmation)"
   ]
  },
  {
   "cell_type": "code",
   "execution_count": null,
   "metadata": {
    "vscode": {
     "languageId": "sql"
    }
   },
   "outputs": [],
   "source": [
    "SELECT \n",
    "  user_id\n",
    "FROM emails\n",
    "RIGHT JOIN texts \n",
    "  ON emails.email_id = texts.email_id\n",
    "WHERE\n",
    "  signup_action = 'Confirmed' AND\n",
    "  EXTRACT(day FROM (action_date - signup_date)) = 1"
   ]
  }
 ],
 "metadata": {
  "language_info": {
   "name": "python"
  }
 },
 "nbformat": 4,
 "nbformat_minor": 2
}
