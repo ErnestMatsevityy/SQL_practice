{
 "cells": [
  {
   "cell_type": "markdown",
   "metadata": {},
   "source": [
    "<h2>Duplicate Job Listings</h2>\n",
    "<p>Difficulty: Easy</p>\n",
    "<i><b>Question: </b>Assume you're given a table containing job postings from various companies on the LinkedIn platform.\n",
    " Write a query to retrieve the count of companies that have posted duplicate job listings.</i>"
   ]
  },
  {
   "cell_type": "markdown",
   "metadata": {},
   "source": [
    "[Link to the question](https://datalemur.com/questions/duplicate-job-listings)"
   ]
  },
  {
   "cell_type": "code",
   "execution_count": null,
   "metadata": {
    "vscode": {
     "languageId": "sql"
    }
   },
   "outputs": [],
   "source": [
    "SELECT \n",
    "    COUNT(*)\n",
    "FROM (\n",
    "    SELECT company_id\n",
    "    FROM job_listings\n",
    "    GROUP BY company_id\n",
    "    HAVING count(company_id) > 1\n",
    "    ) as filter_table"
   ]
  },
  {
   "cell_type": "markdown",
   "metadata": {},
   "source": [
    "<h2>Teams Power Users</h2>\n",
    "<p>Difficulty: Easy</p>\n",
    "<i><b>Question: </b>Write a query to identify the top 2 Power Users who sent the highest number of messages on Microsoft Teams in August 2022. Display the IDs of these 2 users along with the total number of messages they sent. Output the results in descending order based on the count of the messages.</i>"
   ]
  },
  {
   "cell_type": "markdown",
   "metadata": {},
   "source": [
    "[Link to the question](https://datalemur.com/questions/teams-power-users)"
   ]
  },
  {
   "cell_type": "code",
   "execution_count": null,
   "metadata": {
    "vscode": {
     "languageId": "sql"
    }
   },
   "outputs": [],
   "source": [
    "SELECT \n",
    "  sender_id,\n",
    "  COUNT(sender_id) as message_namber\n",
    "FROM messages\n",
    "WHERE\n",
    "  sent_date BETWEEN '2022-08-01' AND '2022-08-31'\n",
    "GROUP BY\n",
    "  sender_id\n",
    "ORDER BY\n",
    "  message_namber DESC\n",
    "LIMIT 2"
   ]
  },
  {
   "cell_type": "markdown",
   "metadata": {},
   "source": [
    "<h2>Average Review Ratings</h2>\n",
    "<p>Difficulty: Easy</p>\n",
    "<i><b>Question: </b>Given the reviews table, write a query to retrieve the average star rating for each product, grouped by month. The output should display the month as a numerical value, product ID, and average star rating rounded to two decimal places. Sort the output first by month and then by product ID.</i>"
   ]
  },
  {
   "cell_type": "markdown",
   "metadata": {},
   "source": [
    "[Link to the question](https://datalemur.com/questions/sql-avg-review-ratings)"
   ]
  },
  {
   "cell_type": "code",
   "execution_count": null,
   "metadata": {
    "vscode": {
     "languageId": "sql"
    }
   },
   "outputs": [],
   "source": [
    "SELECT \n",
    "  EXTRACT(MONTH FROM submit_date) as Month,\n",
    "  product_id,\n",
    "  round(AVG(stars), 2) as AVG_Rate_Prod\n",
    "FROM  reviews\n",
    "GROUP BY\n",
    "  Month, \n",
    "  product_id\n",
    "ORDER BY\n",
    "  Month, \n",
    "  product_id"
   ]
  }
 ],
 "metadata": {
  "language_info": {
   "name": "python"
  }
 },
 "nbformat": 4,
 "nbformat_minor": 2
}
