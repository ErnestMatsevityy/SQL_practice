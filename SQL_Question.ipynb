{
 "cells": [
  {
   "cell_type": "markdown",
   "metadata": {},
   "source": [
    "<h2>Duplicate Job Listings</h2>\n",
    "<p>Difficulty: Easy</p>\n",
    "<i><b>Question: </b>Assume you're given a table containing job postings from various companies on the LinkedIn platform.\n",
    " Write a query to retrieve the count of companies that have posted duplicate job listings.</i>\n",
    "\n",
    " [Link to the question](https://datalemur.com/questions/duplicate-job-listings)"
   ]
  },
  {
   "cell_type": "code",
   "execution_count": null,
   "metadata": {
    "vscode": {
     "languageId": "sql"
    }
   },
   "outputs": [],
   "source": [
    "SELECT \n",
    "    COUNT(*)\n",
    "FROM (\n",
    "    SELECT company_id\n",
    "    FROM job_listings\n",
    "    GROUP BY company_id\n",
    "    HAVING count(company_id) > 1\n",
    "    ) as filter_table"
   ]
  },
  {
   "cell_type": "markdown",
   "metadata": {},
   "source": [
    "<h2>Teams Power Users</h2>\n",
    "<p>Difficulty: Easy</p>\n",
    "<i><b>Question: </b>Write a query to identify the top 2 Power Users who sent the highest number of messages on Microsoft Teams in August 2022. Display the IDs of these 2 users along with the total number of messages they sent. Output the results in descending order based on the count of the messages.</i>\n",
    "\n",
    "[Link to the question](https://datalemur.com/questions/teams-power-users)"
   ]
  },
  {
   "cell_type": "code",
   "execution_count": null,
   "metadata": {
    "vscode": {
     "languageId": "sql"
    }
   },
   "outputs": [],
   "source": [
    "SELECT \n",
    "  sender_id,\n",
    "  COUNT(sender_id) as message_namber\n",
    "FROM messages\n",
    "WHERE\n",
    "  sent_date BETWEEN '2022-08-01' AND '2022-08-31'\n",
    "GROUP BY\n",
    "  sender_id\n",
    "ORDER BY\n",
    "  message_namber DESC\n",
    "LIMIT 2"
   ]
  },
  {
   "cell_type": "markdown",
   "metadata": {},
   "source": [
    "<h2>Average Review Ratings</h2>\n",
    "<p>Difficulty: Easy</p>\n",
    "<i><b>Question: </b>Given the reviews table, write a query to retrieve the average star rating for each product, grouped by month. The output should display the month as a numerical value, product ID, and average star rating rounded to two decimal places. Sort the output first by month and then by product ID.</i>\n",
    "\n",
    "[Link to the question](https://datalemur.com/questions/sql-avg-review-ratings)"
   ]
  },
  {
   "cell_type": "code",
   "execution_count": null,
   "metadata": {
    "vscode": {
     "languageId": "sql"
    }
   },
   "outputs": [],
   "source": [
    "SELECT \n",
    "  EXTRACT(MONTH FROM submit_date) as Month,\n",
    "  product_id,\n",
    "  round(AVG(stars), 2) as AVG_Rate_Prod\n",
    "FROM  reviews\n",
    "GROUP BY\n",
    "  Month, \n",
    "  product_id\n",
    "ORDER BY\n",
    "  Month, \n",
    "  product_id"
   ]
  },
  {
   "cell_type": "markdown",
   "metadata": {},
   "source": [
    "<h2>Page With No Likes</h2>\n",
    "<p>Difficulty: Easy</p>\n",
    "<i><b>Question: </b>Assume you're given two tables containing data about Facebook Pages and their respective likes (as in \"Like a Facebook Page\").\n",
    "\n",
    "Write a query to return the IDs of the Facebook pages that have zero likes. The output should be sorted in ascending order based on the page IDs.</i>\n",
    "\n",
    "[Link to the question](https://datalemur.com/questions/sql-page-with-no-likes)"
   ]
  },
  {
   "cell_type": "code",
   "execution_count": null,
   "metadata": {
    "vscode": {
     "languageId": "sql"
    }
   },
   "outputs": [],
   "source": [
    "SELECT \n",
    "  p.page_id as page\n",
    "FROM \n",
    "  pages as p\n",
    "FULL OUTER JOIN page_likes \n",
    "  ON p.page_id = page_likes.page_id\n",
    "GROUP BY\n",
    "  page\n",
    "HAVING\n",
    "  COUNT(page_likes.liked_date) = 0\n",
    "ORDER BY\n",
    "  page ASC"
   ]
  },
  {
   "cell_type": "markdown",
   "metadata": {},
   "source": [
    "<h2>App Click-through Rate (CTR) </h2>\n",
    "<p>Difficulty: Easy</p>\n",
    "<i><b>Question: </b>Assume you have an events table on Facebook app analytics. Write a query to calculate the click-through rate (CTR) for the app in 2022 and round the results to 2 decimal places.\n",
    "\n",
    "Definition and note:\n",
    "\n",
    "Percentage of click-through rate (CTR) = 100.0 * Number of clicks / Number of impressions\n",
    "To avoid integer division, multiply the CTR by 100.0, not 100.</i>\n",
    "\n",
    "[Link to the question](https://datalemur.com/questions/click-through-rate)"
   ]
  },
  {
   "cell_type": "code",
   "execution_count": null,
   "metadata": {
    "vscode": {
     "languageId": "sql"
    }
   },
   "outputs": [],
   "source": [
    "SELECT\n",
    "  app_id,\n",
    "  round(\n",
    "    100.0 * \n",
    "    SUM (CASE WHEN event_type = 'click' THEN 1 END) / \n",
    "    SUM (CASE WHEN event_type = 'impression' THEN 1  END), 2\n",
    "  ) as ctr\n",
    "FROM events\n",
    "WHERE\n",
    "  EXTRACT(Year FROM timestamp) = '2022'\n",
    "GROUP BY\n",
    "  app_id"
   ]
  }
 ],
 "metadata": {
  "language_info": {
   "name": "python"
  }
 },
 "nbformat": 4,
 "nbformat_minor": 2
}
