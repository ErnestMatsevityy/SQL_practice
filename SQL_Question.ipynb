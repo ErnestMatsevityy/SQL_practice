{
 "cells": [
  {
   "cell_type": "markdown",
   "metadata": {},
   "source": [
    "<h2>Duplicate Job Listings</h2>\n",
    "<p>Difficulty: Easy</p>\n",
    "<i><b>Question: </b>Assume you're given a table containing job postings from various companies on the LinkedIn platform.\n",
    " Write a query to retrieve the count of companies that have posted duplicate job listings.</i>"
   ]
  },
  {
   "cell_type": "markdown",
   "metadata": {},
   "source": [
    "[Link to the question](https://datalemur.com/questions/duplicate-job-listings)"
   ]
  },
  {
   "cell_type": "code",
   "execution_count": null,
   "metadata": {
    "vscode": {
     "languageId": "sql"
    }
   },
   "outputs": [],
   "source": [
    "-- SELECT \n",
    "--     COUNT(*)\n",
    "-- FROM (\n",
    "--     SELECT company_id\n",
    "--     FROM job_listings\n",
    "--     GROUP BY company_id\n",
    "--     HAVING count(company_id) > 1\n",
    "--     ) as filter_table"
   ]
  }
 ],
 "metadata": {
  "language_info": {
   "name": "python"
  }
 },
 "nbformat": 4,
 "nbformat_minor": 2
}
