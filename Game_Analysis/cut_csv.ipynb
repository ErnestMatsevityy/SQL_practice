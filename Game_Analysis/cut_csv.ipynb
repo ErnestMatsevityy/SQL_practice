{
 "cells": [
  {
   "cell_type": "code",
   "execution_count": 1,
   "metadata": {},
   "outputs": [],
   "source": [
    "import pandas as pd"
   ]
  },
  {
   "cell_type": "code",
   "execution_count": 4,
   "metadata": {},
   "outputs": [],
   "source": [
    "# Завантаження CSV файлу\n",
    "df = pd.read_csv('F:\\Job\\Projects\\Data Analitycs\\SQL_practice\\Game_Analysis\\games_steam.csv')\n",
    "\n",
    "# Вибірка колонок, які треба залишити\n",
    "columns_to_keep = ['AppID', 'Name', 'Release date', 'Estimated owners', 'Peak CCU', 'Required age', 'Price', 'DLC count', 'Supported languages', 'Reviews', 'Windows', 'Mac', 'Linux', 'Metacritic score', 'User score', 'Positive', 'Negative', 'Score rank', 'Achievements', 'Recommendations', 'Average playtime forever', 'Average playtime two weeks', 'Median playtime forever', 'Median playtime two weeks', 'Developers', 'Publishers', 'Categories', 'Genres', 'Tags']\n",
    "\n",
    "# Видалення зайвих колонок\n",
    "df = df[columns_to_keep]\n",
    "\n",
    "# Збереження оновленого DataFrame у новий CSV файл\n",
    "df.to_csv('steam_games.csv', index=False)"
   ]
  }
 ],
 "metadata": {
  "kernelspec": {
   "display_name": "base",
   "language": "python",
   "name": "python3"
  },
  "language_info": {
   "codemirror_mode": {
    "name": "ipython",
    "version": 3
   },
   "file_extension": ".py",
   "mimetype": "text/x-python",
   "name": "python",
   "nbconvert_exporter": "python",
   "pygments_lexer": "ipython3",
   "version": "3.11.5"
  }
 },
 "nbformat": 4,
 "nbformat_minor": 2
}
