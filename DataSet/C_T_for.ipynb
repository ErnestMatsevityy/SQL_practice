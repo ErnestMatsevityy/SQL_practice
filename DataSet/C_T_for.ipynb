{
 "cells": [
  {
   "cell_type": "code",
   "execution_count": 1,
   "metadata": {},
   "outputs": [],
   "source": [
    "import pandas as pd\n",
    "import numpy as np\n",
    "from datetime import datetime, timedelta"
   ]
  },
  {
   "cell_type": "code",
   "execution_count": 2,
   "metadata": {},
   "outputs": [],
   "source": [
    "# Setting a random seed for reproducibility\n",
    "np.random.seed(42)\n",
    "\n",
    "# Number of records to generate\n",
    "num_records = 50000\n",
    "\n",
    "start_date = datetime(2021, 1, 1)\n",
    "end_date = datetime(2021, 6, 30)\n",
    "\n",
    "user_ids = np.random.randint(1, 3000, size=num_records)\n",
    "\n",
    "# Initialize a dictionary to store registration dates for each unique user_id\n",
    "registration_dates_dict = {}\n",
    "\n",
    "# Generating random data for table columns\n",
    "age = np.random.randint(18, 60, size=num_records)\n",
    "gender = np.random.choice(['Male', 'Female'], size=num_records)\n",
    "location = np.random.choice(['USA', 'Europe', 'Asia'], size=num_records)\n",
    "session_duration = np.random.uniform(5, 120, size=num_records)\n",
    "num_sessions = np.random.randint(1, 50, size=num_records)\n",
    "level = np.random.randint(1, 100, size=num_records)\n",
    "tasks_completed = np.random.randint(0, 50, size=num_records)\n",
    "revenue = np.random.uniform(0, 250, size=num_records)\n",
    "purchases = np.random.randint(0, 5, size=num_records)\n",
    "platform = np.random.choice(['iOS', 'Android'], size=num_records)\n",
    "ad_campaign_cost = np.random.uniform(0, 50, size=num_records)\n",
    "game_rating = np.random.uniform(1, 5, size=num_records)\n",
    "\n",
    "# Generate random registration dates tied to user_id, ensuring consistency for the same user_id\n",
    "registration_dates = [registration_dates_dict.setdefault(user_id, start_date + timedelta(days=np.random.randint((end_date - start_date).days))) for user_id in user_ids]"
   ]
  },
  {
   "cell_type": "code",
   "execution_count": 3,
   "metadata": {},
   "outputs": [],
   "source": [
    "# Generate random registration dates tied to user_id, ensuring consistency for the same user_id\n",
    "registration_dates = [registration_dates_dict.setdefault(user_id, start_date + timedelta(days=np.random.randint((end_date - start_date).days))) for user_id in user_ids]\n",
    "\n",
    "# Generate unique random event dates for each user\n",
    "event_dates = start_date + pd.to_timedelta(np.random.randint((end_date - start_date).days, size=num_records), unit='D')\n",
    "user_events = np.random.choice(['Logged In', 'Clicked Play Button', 'Clicked Shop Button'], size=num_records)"
   ]
  },
  {
   "cell_type": "code",
   "execution_count": 4,
   "metadata": {},
   "outputs": [],
   "source": [
    "# Calculating the number of seasons and their names\n",
    "df = pd.DataFrame({\n",
    "    'user_id': user_ids,\n",
    "    'age': age,\n",
    "    'gender': gender,\n",
    "    'location': location,\n",
    "    'session_duration': session_duration,\n",
    "    'num_sessions': num_sessions,\n",
    "    'level': level,\n",
    "    'tasks_completed': tasks_completed,\n",
    "    'revenue': revenue,\n",
    "    'purchases': purchases,\n",
    "    'game_rating': game_rating,\n",
    "    'registration_date': [registration_dates[user_id] for user_id in user_ids],\n",
    "    'event_date': [event_dates[user_id] for user_id in user_ids],\n",
    "    'user_event': [user_events[user_id] for user_id in user_ids]\n",
    "})"
   ]
  },
  {
   "cell_type": "code",
   "execution_count": 5,
   "metadata": {},
   "outputs": [],
   "source": [
    "# Add the new columns to the DataFrame\n",
    "df['event_date'] = event_dates\n",
    "df['user_event'] = user_events"
   ]
  },
  {
   "cell_type": "code",
   "execution_count": 6,
   "metadata": {},
   "outputs": [],
   "source": [
    "# Generate additional users with only one event\n",
    "additional_users = pd.DataFrame({\n",
    "    'user_id': range(100, 110),\n",
    "    'age': np.random.randint(18, 60, size=10),\n",
    "    'gender': np.random.choice(['Male', 'Female'], size=10),\n",
    "    'location': np.random.choice(['USA', 'Europe', 'Asia'], size=10),\n",
    "    'session_duration': np.random.uniform(5, 120, size=10),\n",
    "    'num_sessions': np.random.randint(1, 50, size=10),\n",
    "    'level': np.random.randint(1, 100, size=10),\n",
    "    'tasks_completed': np.random.randint(0, 50, size=10),\n",
    "    'revenue': np.random.uniform(0, 100, size=10),\n",
    "    'purchases': np.random.randint(0, 2, size=10),\n",
    "    'registration_date': start_date + pd.to_timedelta(np.random.randint((end_date - start_date).days, size=10), unit='D'),\n",
    "    'event_date': start_date + pd.to_timedelta(np.random.randint((end_date - start_date).days, size=10), unit='D'),\n",
    "    'user_event': np.random.choice(['Logged In', 'Clicked Play Button', 'Clicked Shop Button'], size=10)\n",
    "})\n",
    "\n",
    "# Concatenate the additional users to the main DataFrame\n",
    "df = pd.concat([df, additional_users], ignore_index=True)"
   ]
  },
  {
   "cell_type": "code",
   "execution_count": 7,
   "metadata": {},
   "outputs": [],
   "source": [
    "df.to_csv('mobile_game_analytics_data.csv', index=False)"
   ]
  }
 ],
 "metadata": {
  "kernelspec": {
   "display_name": "base",
   "language": "python",
   "name": "python3"
  },
  "language_info": {
   "codemirror_mode": {
    "name": "ipython",
    "version": 3
   },
   "file_extension": ".py",
   "mimetype": "text/x-python",
   "name": "python",
   "nbconvert_exporter": "python",
   "pygments_lexer": "ipython3",
   "version": "3.11.5"
  }
 },
 "nbformat": 4,
 "nbformat_minor": 2
}
