{
 "cells": [
  {
   "cell_type": "code",
   "execution_count": 1,
   "metadata": {},
   "outputs": [],
   "source": [
    "import pandas as pd\n",
    "import numpy as np\n",
    "from datetime import datetime, timedelta"
   ]
  },
  {
   "cell_type": "code",
   "execution_count": 2,
   "metadata": {},
   "outputs": [],
   "source": [
    "# Setting a random seed for reproducibility\n",
    "np.random.seed(42)\n",
    "\n",
    "# Number of records to generate\n",
    "num_records = 20000\n",
    "\n",
    "start_date = datetime(2021, 1, 1)\n",
    "end_date = datetime(2021, 12, 31)\n",
    "\n",
    "user_ids = np.random.randint(1, 4000, size=num_records)\n",
    "\n",
    "# Initialize a dictionary to store registration dates for each unique user_id\n",
    "registration_dates_dict = {}\n",
    "\n",
    "# Generating random data for table columns\n",
    "age = np.random.randint(18, 60, size=num_records)\n",
    "gender = np.random.choice(['Male', 'Female'], size=num_records)\n",
    "location = np.random.choice(['USA', 'Europe', 'Asia'], size=num_records)\n",
    "session_duration = np.random.uniform(5, 120, size=num_records)\n",
    "num_sessions = np.random.randint(1, 50, size=num_records)\n",
    "level = np.random.randint(1, 100, size=num_records)\n",
    "tasks_completed = np.random.randint(0, 50, size=num_records)\n",
    "revenue = np.random.uniform(0, 100, size=num_records)\n",
    "purchases = np.random.randint(0, 2, size=num_records)\n",
    "average_revenue_per_user = revenue / (purchases + 1)\n",
    "game_version = np.random.choice(['1.0', '2.0', '3.0'], size=num_records)\n",
    "platform = np.random.choice(['iOS', 'Android'], size=num_records)\n",
    "os_version = np.random.choice(['10.0', '11.0', '12.0'], size=num_records)\n",
    "ad_campaign_cost = np.random.uniform(0, 50, size=num_records)\n",
    "new_users_from_ads = np.random.randint(0, 50, size=num_records)\n",
    "game_rating = np.random.uniform(1, 5, size=num_records)\n",
    "player_reviews = np.random.randint(0, 100, size=num_records)\n",
    "\n",
    "# Generate random registration dates tied to user_id, ensuring consistency for the same user_id\n",
    "registration_dates = [registration_dates_dict.setdefault(user_id, start_date + timedelta(days=np.random.randint((end_date - start_date).days))) for user_id in user_ids]"
   ]
  },
  {
   "cell_type": "code",
   "execution_count": 3,
   "metadata": {},
   "outputs": [],
   "source": [
    "# Generating random registration dates for users, tied to user_id\n",
    "registration_dates = {user_id: start_date + timedelta(days=np.random.randint((end_date - start_date).days)) for user_id in user_ids}\n",
    "\n",
    "# Generating random event dates for users\n",
    "event_dates = {user_id: start_date + timedelta(days=np.random.randint((end_date - start_date).days)) for user_id in user_ids}\n",
    "user_events = {user_id: np.random.choice(['Logged In', 'Clicked Play Button', 'Clicked Shop Button']) for user_id in user_ids}"
   ]
  },
  {
   "cell_type": "code",
   "execution_count": 4,
   "metadata": {},
   "outputs": [],
   "source": [
    "# Calculating the number of seasons and their names\n",
    "df = pd.DataFrame({\n",
    "    'user_id': user_ids,\n",
    "    'age': age,\n",
    "    'gender': gender,\n",
    "    'location': location,\n",
    "    'session_duration': session_duration,\n",
    "    'num_sessions': num_sessions,\n",
    "    'level': level,\n",
    "    'tasks_completed': tasks_completed,\n",
    "    'revenue': revenue,\n",
    "    'purchases': purchases,\n",
    "    'game_version': game_version,\n",
    "    'platform': platform,\n",
    "    'os_version': os_version,\n",
    "    'game_rating': game_rating,\n",
    "    'registration_date': [registration_dates[user_id] for user_id in user_ids],\n",
    "    'event_date': [event_dates[user_id] for user_id in user_ids],\n",
    "    'user_event': [user_events[user_id] for user_id in user_ids]\n",
    "})"
   ]
  },
  {
   "cell_type": "code",
   "execution_count": 5,
   "metadata": {},
   "outputs": [],
   "source": [
    "# Define unique start dates for each season\n",
    "season_start_dates = {\n",
    "    'Season 1': datetime(2021, 1, 1),\n",
    "    'Season 2': datetime(2021, 4, 1),\n",
    "    'Season 3': datetime(2021, 7, 1),\n",
    "    'Season 4': datetime(2021, 10, 1)\n",
    "}\n",
    "\n",
    "# Assign each row a random season and the corresponding unique start date\n",
    "df['season'] = np.random.choice(list(season_start_dates.keys()), size=num_records)\n",
    "df['start_season'] = df['season'].map(season_start_dates)"
   ]
  },
  {
   "cell_type": "code",
   "execution_count": 6,
   "metadata": {},
   "outputs": [],
   "source": [
    "df.to_csv('mobile_game_analytics_data.csv', index=False)"
   ]
  }
 ],
 "metadata": {
  "kernelspec": {
   "display_name": "base",
   "language": "python",
   "name": "python3"
  },
  "language_info": {
   "codemirror_mode": {
    "name": "ipython",
    "version": 3
   },
   "file_extension": ".py",
   "mimetype": "text/x-python",
   "name": "python",
   "nbconvert_exporter": "python",
   "pygments_lexer": "ipython3",
   "version": "3.11.5"
  }
 },
 "nbformat": 4,
 "nbformat_minor": 2
}
